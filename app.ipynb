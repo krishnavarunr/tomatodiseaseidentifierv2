{
 "cells": [
  {
   "cell_type": "code",
   "execution_count": 1,
   "id": "a163f7d8",
   "metadata": {},
   "outputs": [
    {
     "name": "stderr",
     "output_type": "stream",
     "text": [
      "2025-04-06 15:58:58.888 WARNING streamlit.runtime.scriptrunner_utils.script_run_context: Thread 'MainThread': missing ScriptRunContext! This warning can be ignored when running in bare mode.\n",
      "2025-04-06 15:58:59.243 \n",
      "  \u001b[33m\u001b[1mWarning:\u001b[0m to view this Streamlit app on a browser, run it with the following\n",
      "  command:\n",
      "\n",
      "    streamlit run C:\\Users\\krish\\anaconda3\\lib\\site-packages\\ipykernel_launcher.py [ARGUMENTS]\n",
      "2025-04-06 15:58:59.244 Thread 'MainThread': missing ScriptRunContext! This warning can be ignored when running in bare mode.\n",
      "2025-04-06 15:58:59.245 Thread 'MainThread': missing ScriptRunContext! This warning can be ignored when running in bare mode.\n",
      "2025-04-06 15:58:59.246 Thread 'MainThread': missing ScriptRunContext! This warning can be ignored when running in bare mode.\n",
      "2025-04-06 15:58:59.247 Thread 'MainThread': missing ScriptRunContext! This warning can be ignored when running in bare mode.\n",
      "2025-04-06 15:58:59.249 Thread 'MainThread': missing ScriptRunContext! This warning can be ignored when running in bare mode.\n",
      "2025-04-06 15:58:59.250 Thread 'MainThread': missing ScriptRunContext! This warning can be ignored when running in bare mode.\n",
      "2025-04-06 15:58:59.252 Thread 'MainThread': missing ScriptRunContext! This warning can be ignored when running in bare mode.\n",
      "2025-04-06 15:58:59.253 Thread 'MainThread': missing ScriptRunContext! This warning can be ignored when running in bare mode.\n",
      "2025-04-06 15:58:59.256 Thread 'MainThread': missing ScriptRunContext! This warning can be ignored when running in bare mode.\n",
      "2025-04-06 15:58:59.258 Thread 'MainThread': missing ScriptRunContext! This warning can be ignored when running in bare mode.\n"
     ]
    }
   ],
   "source": [
    "import streamlit as st\n",
    "import cv2\n",
    "import numpy as np\n",
    "import joblib\n",
    "from skimage.feature import hog, local_binary_pattern\n",
    "from sklearn.preprocessing import StandardScaler\n",
    "from collections import Counter\n",
    "from PIL import Image\n",
    "\n",
    "# Load the trained models and label encoder\n",
    "svm_model = joblib.load(\"best_svm_model.pkl\")\n",
    "dt_model = joblib.load(\"best_dt_model.pkl\")\n",
    "rf_model = joblib.load(\"best_rf_model.pkl\")\n",
    "label_encoder = joblib.load(\"label_encoder.pkl\")\n",
    "\n",
    "# Preprocessing functions\n",
    "def preprocess_image(image):\n",
    "    img = np.array(image)\n",
    "    img_resized = cv2.resize(img, (128, 128))\n",
    "    img_gray = cv2.cvtColor(img_resized, cv2.COLOR_RGB2GRAY)\n",
    "    return img_resized, img_gray\n",
    "\n",
    "def extract_color_histogram(img, bins=(16, 16, 16)):\n",
    "    hist = cv2.calcHist([img], [0, 1, 2], None, bins, [0, 256, 0, 256, 0, 256])\n",
    "    cv2.normalize(hist, hist)\n",
    "    return hist.flatten()\n",
    "\n",
    "def extract_hog_features(img_gray):\n",
    "    features = hog(img_gray, pixels_per_cell=(8, 8), cells_per_block=(3, 3),\n",
    "                   visualize=False, block_norm='L2-Hys')\n",
    "    return features\n",
    "\n",
    "def extract_lbp_features(img_gray, radius=3, n_points=24):\n",
    "    lbp = local_binary_pattern(img_gray, n_points, radius, method='uniform')\n",
    "    hist, _ = np.histogram(lbp.ravel(), bins=np.arange(0, n_points + 3), range=(0, n_points + 2))\n",
    "    hist = hist.astype(\"float\")\n",
    "    hist /= (hist.sum() + 1e-6)\n",
    "    return hist\n",
    "\n",
    "# Main app\n",
    "st.title(\"Tomato Leaf Disease Classifier 🍅\")\n",
    "st.write(\"Upload a tomato leaf image and get the predicted infection type using an ensemble of models.\")\n",
    "\n",
    "uploaded_file = st.file_uploader(\"Choose a tomato leaf image...\", type=[\"jpg\", \"jpeg\", \"png\"])\n",
    "\n",
    "if uploaded_file is not None:\n",
    "    image = Image.open(uploaded_file).convert(\"RGB\")\n",
    "    st.image(image, caption='Uploaded Image', use_column_width=True)\n",
    "\n",
    "    # Preprocess and extract features\n",
    "    img_resized, img_gray = preprocess_image(image)\n",
    "    hist = extract_color_histogram(img_resized)\n",
    "    hog_feat = extract_hog_features(img_gray)\n",
    "    lbp_feat = extract_lbp_features(img_gray)\n",
    "\n",
    "    # Combine features and scale\n",
    "    features = np.hstack((hog_feat, hist, lbp_feat)).reshape(1, -1)\n",
    "    scaler = StandardScaler()\n",
    "    features_scaled = scaler.fit_transform(features)\n",
    "\n",
    "    # Get predictions\n",
    "    pred_svm = svm_model.predict(features_scaled)[0]\n",
    "    pred_dt = dt_model.predict(features_scaled)[0]\n",
    "    pred_rf = rf_model.predict(features_scaled)[0]\n",
    "\n",
    "    # Ensemble by majority vote\n",
    "    preds = [pred_svm, pred_dt, pred_rf]\n",
    "    final_pred = Counter(preds).most_common(1)[0][0]\n",
    "    final_label = label_encoder.inverse_transform([final_pred])[0]\n",
    "\n",
    "    st.success(f\"Predicted Infection Type: **{final_label}**\")\n",
    "\n"
   ]
  },
  {
   "cell_type": "code",
   "execution_count": null,
   "id": "f515727c",
   "metadata": {},
   "outputs": [],
   "source": [
    "!pip install numpy pandas matplotlib scikit-learn opencv-python scikit-image joblib streamlit\n"
   ]
  },
  {
   "cell_type": "code",
   "execution_count": null,
   "id": "36c3bc04",
   "metadata": {},
   "outputs": [],
   "source": []
  }
 ],
 "metadata": {
  "kernelspec": {
   "display_name": "Python 3 (ipykernel)",
   "language": "python",
   "name": "python3"
  },
  "language_info": {
   "codemirror_mode": {
    "name": "ipython",
    "version": 3
   },
   "file_extension": ".py",
   "mimetype": "text/x-python",
   "name": "python",
   "nbconvert_exporter": "python",
   "pygments_lexer": "ipython3",
   "version": "3.10.9"
  }
 },
 "nbformat": 4,
 "nbformat_minor": 5
}
